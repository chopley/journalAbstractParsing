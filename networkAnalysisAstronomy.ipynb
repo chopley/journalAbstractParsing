{
 "cells": [
  {
   "cell_type": "code",
   "execution_count": 6,
   "metadata": {
    "collapsed": false
   },
   "outputs": [
    {
     "name": "stderr",
     "output_type": "stream",
     "text": [
      "Loading required package: rvest\n",
      "Loading required package: xml2\n",
      "Loading required package: ggplot2\n",
      "Loading required package: pipeR\n",
      "Loading required package: httr\n",
      "Loading required package: RCurl\n",
      "Loading required package: bitops\n",
      "Loading required package: dplyr\n",
      "\n",
      "Attaching package: ‘dplyr’\n",
      "\n",
      "The following objects are masked from ‘package:stats’:\n",
      "\n",
      "    filter, lag\n",
      "\n",
      "The following objects are masked from ‘package:base’:\n",
      "\n",
      "    intersect, setdiff, setequal, union\n",
      "\n",
      "\n",
      "Attaching package: ‘igraph’\n",
      "\n",
      "The following object is masked _by_ ‘.GlobalEnv’:\n",
      "\n",
      "    edges\n",
      "\n",
      "The following objects are masked from ‘package:dplyr’:\n",
      "\n",
      "    %>%, as_data_frame, groups, union\n",
      "\n",
      "The following object is masked from ‘package:rvest’:\n",
      "\n",
      "    %>%\n",
      "\n",
      "The following objects are masked from ‘package:stats’:\n",
      "\n",
      "    decompose, spectrum\n",
      "\n",
      "The following object is masked from ‘package:base’:\n",
      "\n",
      "    union\n",
      "\n",
      "Loading required package: doParallel\n",
      "Loading required package: foreach\n",
      "Loading required package: iterators\n",
      "Loading required package: parallel\n",
      "Loading required package: networkD3\n",
      "Loading required package: plotly\n",
      "\n",
      "Attaching package: ‘plotly’\n",
      "\n",
      "The following object is masked from ‘package:igraph’:\n",
      "\n",
      "    %>%\n",
      "\n",
      "The following object is masked from ‘package:httr’:\n",
      "\n",
      "    config\n",
      "\n",
      "The following object is masked from ‘package:ggplot2’:\n",
      "\n",
      "    last_plot\n",
      "\n",
      "The following object is masked from ‘package:graphics’:\n",
      "\n",
      "    layout\n",
      "\n",
      "\n",
      "Attaching package: ‘magrittr’\n",
      "\n",
      "The following object is masked from ‘package:igraph’:\n",
      "\n",
      "    %>%\n",
      "\n",
      "Registering fonts with R\n"
     ]
    },
    {
     "name": "stdout",
     "output_type": "stream",
     "text": [
      "Importing fonts may take a few minutes, depending on the number of fonts and the speed of the system.\n",
      "Continue? [y/n] \n"
     ]
    },
    {
     "name": "stderr",
     "output_type": "stream",
     "text": [
      "Exiting.\n"
     ]
    }
   ],
   "source": [
    "require(rvest)\n",
    "require(ggplot2)\n",
    "require(pipeR) # %>>% will be faster than %>%\n",
    "require(httr)\n",
    "require(RCurl)\n",
    "require(dplyr)\n",
    "library('caTools')\n",
    "library(igraph)\n",
    "library('stringdist')\n",
    "library('rgl')\n",
    "require(doParallel)\n",
    "require(foreach)\n",
    "require(networkD3)\n",
    "require(plotly)\n",
    "\n",
    "library(magrittr)\n",
    "library(extrafont)\n",
    "font_import()\n",
    "\n"
   ]
  },
  {
   "cell_type": "code",
   "execution_count": null,
   "metadata": {
    "collapsed": true
   },
   "outputs": [],
   "source": [
    "#open up the user specific functions defined in functions.R- this has definitions of the web page format etc.\n",
    "source('./functions.R')"
   ]
  },
  {
   "cell_type": "code",
   "execution_count": null,
   "metadata": {
    "collapsed": true
   },
   "outputs": [],
   "source": [
    "setClass(\"Journal\",\n",
    "         slots = list(base = \"character\", extension= \"character\",nextIssue = \"character\", abstract=\"character\", \n",
    "                      metaNodes= \"character\", metaNames = \"character\", metaContent = \"character\", \n",
    "                      authorNodes= \"character\",  authorSplit = \"character\", authorExtractString = \"character\",authorAffiliationIndex = \"character\",\n",
    "                      affiliationNodes = \"character\", affiliationSplit = \"character\", affiliationExtractString = \"character\", \n",
    "                      authorSearch = \"character\", institutionSearch = \"character\",doiSearch = \"character\",dateSearch = \"character\",\n",
    "                      emailSearch = \"character\",websiteLayout = \"character\"))\n",
    "#decsription of Journal Layout\n",
    "#base - The base URL of the website\n",
    "#extension - the extension that is added to the base to get the URL of each of the journal volume abstract list\n",
    "#metaNodes - This is a node in the XML that is used for all the author names, affiliations etc. Only used for MNRAS, A&A in getData\n",
    "#metaNames - This is an attribute of the nodes that extracts the labels of each XML data field. Only used for MNRAS, A&A in getData\n",
    "#metaContent - This is an attribute of the nodes that extracts the content in each XML data field. Only used for MNRAS, A&A in getData\n",
    "#authorNodes\n",
    "#authorSplit\n",
    "#authorExtractString\n",
    "#affiliationNodes\n",
    "#affiliationSplit\n",
    "#affiliationExtractString\n",
    "#authorSearch\n",
    "#instiutionSearch\n",
    "#doiSearch\n",
    "#dateSearch\n",
    "#emailSearch\n",
    "#websiteLayout\n"
   ]
  },
  {
   "cell_type": "markdown",
   "metadata": {},
   "source": [
    "# Here we define the different types used in the astronomy code"
   ]
  },
  {
   "cell_type": "code",
   "execution_count": null,
   "metadata": {
    "collapsed": true
   },
   "outputs": [],
   "source": [
    "#header to define the mnras layout\n",
    "mnras <- new(\"Journal\", base = \"http://mnras.oxfordjournals.org/\", extension = 'content/313/1.toc', nextIssue = 'Next issue', abstract = '*abstract*',\n",
    "             metaNodes= 'meta', metaNames = 'name', metaContent = 'content',\n",
    "             authorSearch = \"^citation_author$\",institutionSearch = \"^citation_author_institution$\", doiSearch=\"^citation_doi$\",dateSearch=\"^citation_date$\",\n",
    "             emailSearch = \"^citation_author_email$\")\n",
    "\n",
    "#header to define the Astronomy and Astrophysics layout\n",
    "astast <- new(\"Journal\", base = \"http://www.aanda.org/\", extension = 'articles/aa/abs/2001/01/contents/contents.html', nextIssue = 'Next issue', \n",
    "              abstract = '/aa/abs/.*aa.*\\\\.html$', metaNodes= 'meta', metaNames = 'name', metaContent = 'content',authorSearch = \"^citation_author$\",\n",
    "             institutionSearch = \"^citation_author_institution$\", doiSearch=\"^citation_doi$\",dateSearch=\"^citation_publication_date$\",\n",
    "             emailSearch = \"^citation_author_email$\")\n",
    "\n",
    "#header to define the ApJ\n",
    "astApj <- new(\"Journal\", base = \"http://iopscience.iop.org/\", extension = '0004-637X/471/1', nextIssue = 'next issue', \n",
    "              abstract = '/article/.*meta', metaNodes= 'meta', metaNames = 'name', metaContent = 'content',\n",
    "              authorNodes= \".mb-0, span\", authorSplit = \"span\", authorExtractString = '.*?\\\"name\\\">(.*?)</.*', authorAffiliationIndex = '.*?<sup>(.*?)</sup>.*',\n",
    "              affiliationNodes = \".wd-jnl-art-author-affiliations\",affiliationSplit = \"</sup>\", affiliationExtractString = \".*sup>.*</sup>.*\", \n",
    "              institutionSearch = \"^citation_author_institution$\", doiSearch=\"^citation_doi$\",\n",
    "              dateSearch=\"^citation_publication_date$\", emailSearch = \"^citation_author_email$\", websiteLayout = \"character\")\n"
   ]
  },
  {
   "cell_type": "code",
   "execution_count": null,
   "metadata": {
    "collapsed": true
   },
   "outputs": [],
   "source": [
    "abstractLinksmnras <- getWebPageDataJournal(mnras,500,'mnrasAbstracts.R')\n",
    "abstractLinksaa <- getWebPageDataJournal(astast,500,'astronomyAstrophysicsAbstracts.R')\n",
    "abstractLinksapj <- getWebPageDataJournal(astApj,500,'astrophysicalJournal.R')\n"
   ]
  },
  {
   "cell_type": "code",
   "execution_count": null,
   "metadata": {
    "collapsed": true
   },
   "outputs": [],
   "source": [
    "#parse the abstracts given previously\n",
    "mnrasData2<- parseAbstracts(mnras,abstractLinksmnras,5)\n"
   ]
  },
  {
   "cell_type": "code",
   "execution_count": 4,
   "metadata": {
    "collapsed": true
   },
   "outputs": [],
   "source": [
    "load('ddEdgesMNRAS.rdata')\n"
   ]
  },
  {
   "cell_type": "code",
   "execution_count": null,
   "metadata": {
    "collapsed": false
   },
   "outputs": [],
   "source": [
    "ddEdgesMNRAS\n"
   ]
  },
  {
   "cell_type": "code",
   "execution_count": 7,
   "metadata": {
    "collapsed": false
   },
   "outputs": [
    {
     "name": "stderr",
     "output_type": "stream",
     "text": [
      "Warning message:\n",
      "In graph.data.frame(ddEdges, directed = FALSE): In `d' `NA' elements were replaced with string \"NA\"Warning message:\n",
      "In `[<-.factor`(`*tmp*`, thisvar, value = \"NA\"): invalid factor level, NA generated"
     ]
    }
   ],
   "source": [
    "load('ddEdgesMNRAS.rdata')\n",
    "ddEdges<-ddEdgesMNRAS\n",
    "g <- graph.data.frame(ddEdges, directed=FALSE)\n",
    "net <- simplify(g, remove.multiple = F, remove.loops = T)\n",
    "a<-as.numeric(degree(net))\n",
    "removeG<-which(a<2)\n",
    "net<-delete.vertices(net,removeG)\n",
    "comps <- decompose.graph(net, min.vertices=5)\n",
    "\n",
    "  "
   ]
  },
  {
   "cell_type": "code",
   "execution_count": 10,
   "metadata": {
    "collapsed": false
   },
   "outputs": [],
   "source": [
    "write.graph(g, format=\"graphml\", file=\"arxiv.graphml\")"
   ]
  },
  {
   "cell_type": "code",
   "execution_count": null,
   "metadata": {
    "collapsed": true
   },
   "outputs": [],
   "source": [
    "a<-subgraph.edges(comps[[1]], V(comps[[1]])[1:1000])\n",
    "G <- a\n",
    "L <- layout.fruchterman.reingold(G,dim=3)\n",
    "vs <- V(G)\n",
    "es <- as.data.frame(get.edgelist(G))\n",
    "Nv <- length(vs)\n",
    "Ne <- length(es[1]$V1)\n",
    "Xn <- L[,1]\n",
    "Yn <- L[,2]\n",
    "Zn <- L[,3]\n",
    "df <- setNames(data.frame(cbind(Xn,Yn,Zn)), c(\"x\", \"y\", \"z\"))\n",
    "network <- plot_ly(df, x = x, y = y, z =z,   type = \"scatter3D\", mode = \"markers\")\n"
   ]
  },
  {
   "cell_type": "code",
   "execution_count": null,
   "metadata": {
    "collapsed": true
   },
   "outputs": [],
   "source": [
    " edge_shapes <- list()\n",
    "  for(i in 1:Ne) {\n",
    "    v0 <- es[i,]$V1\n",
    "    v1 <- es[i,]$V2\n",
    "    \n",
    "    edge_shape = list(\n",
    "      type = \"line\",\n",
    "      line = list(color = \"#030303\", width = 0.3),\n",
    "      x0 = Xn[v0],\n",
    "      y0 = Yn[v0],\n",
    "      z0 = Zn[v0],\n",
    "      x1 = Xn[v1],\n",
    "      y1 = Yn[v1],\n",
    "      z1 = Zn[v1]\n",
    "    )\n",
    "    \n",
    "    edge_shapes[[i]] <- edge_shape\n",
    "  }"
   ]
  },
  {
   "cell_type": "code",
   "execution_count": null,
   "metadata": {
    "collapsed": true
   },
   "outputs": [],
   "source": [
    "  network <- layout(\n",
    "    network,\n",
    "    title = 'MNRAS Network',\n",
    "    shapes = edge_shapes,\n",
    "    xaxis = list(title = \"\", showgrid = FALSE, showticklabels = FALSE, zeroline = FALSE),\n",
    "    yaxis = list(title = \"\", showgrid = FALSE, showticklabels = FALSE, zeroline = FALSE),\n",
    "    zaxis = list(title = \"\", showgrid = FALSE, showticklabels = FALSE, zeroline = FALSE)\n",
    "  )"
   ]
  },
  {
   "cell_type": "code",
   "execution_count": null,
   "metadata": {
    "collapsed": false
   },
   "outputs": [],
   "source": [
    "network"
   ]
  },
  {
   "cell_type": "code",
   "execution_count": null,
   "metadata": {
    "collapsed": true
   },
   "outputs": [],
   "source": []
  }
 ],
 "metadata": {
  "kernelspec": {
   "display_name": "R",
   "language": "R",
   "name": "ir"
  },
  "language_info": {
   "codemirror_mode": "r",
   "file_extension": ".r",
   "mimetype": "text/x-r-source",
   "name": "R",
   "pygments_lexer": "r",
   "version": "3.2.3"
  }
 },
 "nbformat": 4,
 "nbformat_minor": 0
}
